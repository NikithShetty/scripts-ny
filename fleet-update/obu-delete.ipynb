{
 "cells": [
  {
   "cell_type": "code",
   "execution_count": 4,
   "metadata": {},
   "outputs": [],
   "source": [
    "import pandas as pd\n",
    "import numpy as np"
   ]
  },
  {
   "cell_type": "code",
   "execution_count": 30,
   "metadata": {},
   "outputs": [],
   "source": [
    "df = pd.read_csv('input/23-05-2025/fleet-device-mapping.csv', dtype=str).apply(lambda x: x.str.strip() if x.dtype == \"object\" else x)\n",
    "del_df = pd.read_csv('input/23-05-2025/Inactive Obu List 22nd May.csv', dtype=str).apply(lambda x: x.str.strip() if x.dtype == \"object\" else x)"
   ]
  },
  {
   "cell_type": "code",
   "execution_count": 54,
   "metadata": {},
   "outputs": [
    {
     "name": "stdout",
     "output_type": "stream",
     "text": [
      "<class 'pandas.core.frame.DataFrame'>\n",
      "RangeIndex: 3386 entries, 0 to 3385\n",
      "Data columns (total 10 columns):\n",
      " #   Column          Non-Null Count  Dtype \n",
      "---  ------          --------------  ----- \n",
      " 0   Dep             3386 non-null   object\n",
      " 1   Fleet           3386 non-null   object\n",
      " 2   Type            3384 non-null   object\n",
      " 3   Regndate        3386 non-null   object\n",
      " 4   Obu Iemi        3124 non-null   object\n",
      " 5   Chalo DeviceID  2840 non-null   object\n",
      " 6   Date            3386 non-null   object\n",
      " 7   Vehicle Number  2579 non-null   object\n",
      " 8   Depot           2579 non-null   object\n",
      " 9   Ny Device ID    8 non-null      object\n",
      "dtypes: object(10)\n",
      "memory usage: 264.7+ KB\n",
      "<class 'pandas.core.frame.DataFrame'>\n",
      "RangeIndex: 644 entries, 0 to 643\n",
      "Data columns (total 3 columns):\n",
      " #   Column        Non-Null Count  Dtype \n",
      "---  ------        --------------  ----- \n",
      " 0   Fleet Number  644 non-null    object\n",
      " 1   IMEI ID       644 non-null    object\n",
      " 2   LAST PACKET   577 non-null    object\n",
      "dtypes: object(3)\n",
      "memory usage: 15.2+ KB\n"
     ]
    }
   ],
   "source": [
    "df.info()\n",
    "del_df.info()"
   ]
  },
  {
   "cell_type": "code",
   "execution_count": 48,
   "metadata": {},
   "outputs": [],
   "source": [
    "# Remove trailing 'LF' characters from Fleet Number column\n",
    "del_df['Fleet Number'] = del_df['Fleet Number'].str.rstrip('LF')\n",
    "# Capitalize Fleet Number column\n",
    "del_df['Fleet Number'] = del_df['Fleet Number'].str.upper()\n",
    "\n"
   ]
  },
  {
   "cell_type": "code",
   "execution_count": 49,
   "metadata": {},
   "outputs": [
    {
     "name": "stdout",
     "output_type": "stream",
     "text": [
      "Total number of devices in fleet-device-mapping.csv: 3386\n",
      "Total number of devices in Inactive Obu List 22nd May.csv: 644\n"
     ]
    }
   ],
   "source": [
    "print(f\"Total number of devices in fleet-device-mapping.csv: {len(df)}\")\n",
    "print(f\"Total number of devices in Inactive Obu List 22nd May.csv: {len(del_df)}\")\n"
   ]
  },
  {
   "cell_type": "code",
   "execution_count": 50,
   "metadata": {},
   "outputs": [],
   "source": [
    "merged_df = pd.merge(df, del_df, left_on='Obu Iemi',\n",
    "                    right_on='IMEI ID', how='left')"
   ]
  },
  {
   "cell_type": "code",
   "execution_count": 51,
   "metadata": {},
   "outputs": [],
   "source": [
    "m = merged_df[~merged_df['IMEI ID'].isna()][['Fleet', 'Fleet Number', 'Obu Iemi','IMEI ID']]\n",
    "m.to_csv('output/23-05-2025/inactive-obu-list.csv', index=False)"
   ]
  },
  {
   "cell_type": "code",
   "execution_count": 52,
   "metadata": {},
   "outputs": [
    {
     "name": "stdout",
     "output_type": "stream",
     "text": [
      "No duplicates found in the inactive OBU list\n"
     ]
    }
   ],
   "source": [
    "# Check for duplicates in the inactive OBU list\n",
    "duplicate_rows = m[m.duplicated(keep=False)]\n",
    "if len(duplicate_rows) > 0:\n",
    "    print(\"Found duplicate rows:\")\n",
    "    print(duplicate_rows)\n",
    "else:\n",
    "    print(\"No duplicates found in the inactive OBU list\")\n"
   ]
  },
  {
   "cell_type": "code",
   "execution_count": 53,
   "metadata": {},
   "outputs": [
    {
     "name": "stdout",
     "output_type": "stream",
     "text": [
      "\n",
      "Found rows where Fleet and Fleet Number don't match:\n",
      "      Fleet Fleet Number         Obu Iemi          IMEI ID\n",
      "1874  J1370        J0484  862547054019788  862547054019788\n"
     ]
    }
   ],
   "source": [
    "# Check for mismatches between Fleet and Fleet Number\n",
    "mismatched_rows = m[m['Fleet'] != m['Fleet Number']]\n",
    "if len(mismatched_rows) > 0:\n",
    "    print(\"\\nFound rows where Fleet and Fleet Number don't match:\")\n",
    "    print(mismatched_rows)\n",
    "else:\n",
    "    print(\"\\nNo mismatches found between Fleet and Fleet Number columns\")\n"
   ]
  },
  {
   "cell_type": "code",
   "execution_count": 58,
   "metadata": {},
   "outputs": [
    {
     "name": "stdout",
     "output_type": "stream",
     "text": [
      "\n",
      "Removed 645 rows that had OBU IMEI numbers present in inactive OBU list\n",
      "Saved filtered data with 2741 rows to filtered-fleet-device-mapping.csv\n"
     ]
    }
   ],
   "source": [
    "# Filter out rows from df that have Obu Iemi values present in del_df['IMEI ID']\n",
    "filtered_df = df[~df['Obu Iemi'].isin(del_df['IMEI ID'])]\n",
    "\n",
    "# Save the filtered dataframe to CSV\n",
    "filtered_df.to_csv('output/23-05-2025/filtered-fleet-device-mapping.csv', index=False)\n",
    "\n",
    "print(f\"\\nRemoved {len(df) - len(filtered_df)} rows that had OBU IMEI numbers present in inactive OBU list\")\n",
    "print(f\"Saved filtered data with {len(filtered_df)} rows to filtered-fleet-device-mapping.csv\")\n"
   ]
  },
  {
   "cell_type": "code",
   "execution_count": 59,
   "metadata": {},
   "outputs": [
    {
     "name": "stdout",
     "output_type": "stream",
     "text": [
      "\n",
      "Found duplicate Chalo Device IDs:\n",
      "     Dep  Fleet  Type    Regndate         Obu Iemi   Chalo DeviceID  \\\n",
      "134   CD  I1151  ORDI  2007-12-31              NaN  869244042737381   \n",
      "208   AY  I1435  ORDI  2008-01-21              NaN  869244042818165   \n",
      "310   AB  I1922  ORDI  2008-09-16              NaN  869244044507154   \n",
      "586   CD  J0052   PHC  2011-11-29  867032053747452  869244042737381   \n",
      "1214  AB  J0701  MINI  2016-03-01  864513042724465  869244044507154   \n",
      "2046  AY  J1542  ORDR  2019-07-19  868142049699045  869244042818165   \n",
      "\n",
      "                     Date Vehicle Number             Depot Ny Device ID  \n",
      "134   2025-04-24T11:57:08            NaN               NaN          NaN  \n",
      "208   2025-04-17T11:24:49            NaN               NaN          NaN  \n",
      "310   2025-04-24T11:57:08            NaN               NaN          NaN  \n",
      "586   2025-04-17T11:24:49      TN01N9869     Central Depot          NaN  \n",
      "1214  2025-04-17T11:24:49     TN01AN1396  Adambakkam Depot          NaN  \n",
      "2046  2025-04-17T11:24:49     TN01AN2972  Ayanavaram Depot          NaN  \n"
     ]
    }
   ],
   "source": [
    "# Check for duplicates in the Chalo DeviceID column\n",
    "duplicate_chalo_ids = filtered_df[filtered_df['Chalo DeviceID'].notna(\n",
    ") & filtered_df.duplicated(subset=['Chalo DeviceID'], keep=False)]\n",
    "if len(duplicate_chalo_ids) > 0:\n",
    "    print(\"\\nFound duplicate Chalo Device IDs:\")\n",
    "    print(duplicate_chalo_ids)\n",
    "else:\n",
    "    print(\"\\nNo duplicate Chalo Device IDs found\")"
   ]
  },
  {
   "cell_type": "code",
   "execution_count": 60,
   "metadata": {},
   "outputs": [
    {
     "name": "stdout",
     "output_type": "stream",
     "text": [
      "\n",
      "Found duplicate OBU IMEI numbers in fleet-device-mapping.csv:\n",
      "     Dep  Fleet  Type    Regndate         Obu Iemi   Chalo DeviceID  \\\n",
      "10    BB  I0709  ORDI  2007-08-17  864513041513471  869244044499592   \n",
      "386   MV  I2922  ORDI  2010-03-01  862607059102813  869244044530974   \n",
      "423   TD  I2968  ORDI  2010-04-05  864513041513471  869244044518045   \n",
      "434   MV  I2992  ORDI  2010-04-19  862607059102813  358250330740993   \n",
      "1741  IY  J1237  ORDR  2019-05-07  864650056121905  869244044496028   \n",
      "2392  IY  J1908  ORDR  2020-03-12  864650056121905  869244044496648   \n",
      "\n",
      "                     Date Vehicle Number                  Depot Ny Device ID  \n",
      "10    2025-04-17T11:24:49      TN01N4674      Basinbridge Depot          NaN  \n",
      "386   2025-04-17T11:24:49      TN01N8861       Madahvaram Depot          NaN  \n",
      "423   2025-04-17T11:24:49      TN01N9424     Tondiarpet-1 Depot          NaN  \n",
      "434   2025-04-17T11:24:49      TN01N9509       Madahvaram Depot          NaN  \n",
      "1741  2025-04-17T11:24:49     TN01AN2304  Iyyappanthangal Depot          NaN  \n",
      "2392  2025-04-17T11:24:49     TN01AN3799  Iyyappanthangal Depot          NaN  \n"
     ]
    }
   ],
   "source": [
    "# Check for duplicates in the fleet-device-mapping file\n",
    "duplicate_rows_df = filtered_df[filtered_df['Obu Iemi'].notna() & filtered_df.duplicated(subset=[\n",
    "    'Obu Iemi'], keep=False)]\n",
    "if len(duplicate_rows_df) > 0:\n",
    "    print(\"\\nFound duplicate OBU IMEI numbers in fleet-device-mapping.csv:\")\n",
    "    print(duplicate_rows_df)\n",
    "else:\n",
    "    print(\"\\nNo duplicate OBU IMEI numbers found in fleet-device-mapping.csv\")\n",
    "\n",
    "duplicate_rows_df.to_csv(\n",
    "    'output/23-05-2025/duplicate-obu-imei.csv', index=False)"
   ]
  },
  {
   "cell_type": "code",
   "execution_count": 61,
   "metadata": {},
   "outputs": [
    {
     "name": "stdout",
     "output_type": "stream",
     "text": [
      "\n",
      "Saved 12 duplicate records to all-duplicates.csv\n"
     ]
    }
   ],
   "source": [
    "# Combine duplicate OBU IMEI and Chalo Device ID rows into one file\n",
    "duplicates_df = pd.concat([duplicate_rows_df, duplicate_chalo_ids]).drop_duplicates()\n",
    "\n",
    "# Save combined duplicates to CSV\n",
    "duplicates_df.to_csv('output/23-05-2025/all-duplicates.csv', index=False)\n",
    "\n",
    "print(f\"\\nSaved {len(duplicates_df)} duplicate records to all-duplicates.csv\")\n"
   ]
  }
 ],
 "metadata": {
  "kernelspec": {
   "display_name": ".venv",
   "language": "python",
   "name": "python3"
  },
  "language_info": {
   "codemirror_mode": {
    "name": "ipython",
    "version": 3
   },
   "file_extension": ".py",
   "mimetype": "text/x-python",
   "name": "python",
   "nbconvert_exporter": "python",
   "pygments_lexer": "ipython3",
   "version": "3.13.3"
  }
 },
 "nbformat": 4,
 "nbformat_minor": 2
}
