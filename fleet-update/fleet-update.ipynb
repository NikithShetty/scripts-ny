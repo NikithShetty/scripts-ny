{
 "cells": [
  {
   "cell_type": "code",
   "execution_count": 2,
   "metadata": {},
   "outputs": [
    {
     "data": {
      "text/plain": [
       "'30-05-2025'"
      ]
     },
     "execution_count": 2,
     "metadata": {},
     "output_type": "execute_result"
    }
   ],
   "source": [
    "import pandas as pd\n",
    "import numpy as np\n",
    "from datetime import datetime\n",
    "\n",
    "\n",
    "date = datetime.now().strftime('%d-%m-%Y')\n",
    "# date = '21-05-2025'\n",
    "date"
   ]
  },
  {
   "cell_type": "code",
   "execution_count": 3,
   "metadata": {},
   "outputs": [],
   "source": [
    "old = pd.read_csv(f'input/{date}/fleet-device-mapping-updated.csv', dtype=str)\n",
    "amenx_update = pd.read_csv(f'input/{date}/prime-edge.csv', dtype=str)\n",
    "# chalo_update = pd.read_csv(f'input/{date}/chalo-update_19-05-2025.csv', dtype=str)\n",
    "\n",
    "# Convert column names to snake case and remove special characters\n",
    "old.columns = old.columns.str.lower().str.replace(\n",
    "    '[^a-zA-Z0-9]', '_', regex=True).str.replace('__+', '_', regex=True).str.strip('_').str.strip()\n",
    "amenx_update.columns = amenx_update.columns.str.lower().str.replace(\n",
    "    '[^a-zA-Z0-9]', '_', regex=True).str.replace('__+', '_', regex=True).str.strip('_').str.strip()\n",
    "# chalo_update.columns = chalo_update.columns.str.lower().str.replace(\n",
    "#     '[^a-zA-Z0-9]', '_', regex=True).str.replace('__+', '_', regex=True).str.strip('_').str.strip()"
   ]
  },
  {
   "cell_type": "code",
   "execution_count": 4,
   "metadata": {},
   "outputs": [
    {
     "name": "stdout",
     "output_type": "stream",
     "text": [
      "<class 'pandas.core.frame.DataFrame'>\n",
      "RangeIndex: 3386 entries, 0 to 3385\n",
      "Data columns (total 10 columns):\n",
      " #   Column          Non-Null Count  Dtype \n",
      "---  ------          --------------  ----- \n",
      " 0   dep             3386 non-null   object\n",
      " 1   fleet           3386 non-null   object\n",
      " 2   type            3384 non-null   object\n",
      " 3   regndate        3386 non-null   object\n",
      " 4   obu_iemi        3124 non-null   object\n",
      " 5   chalo_deviceid  2840 non-null   object\n",
      " 6   date            3386 non-null   object\n",
      " 7   vehicle_number  2579 non-null   object\n",
      " 8   depot           2579 non-null   object\n",
      " 9   ny_device_id    8 non-null      object\n",
      "dtypes: object(10)\n",
      "memory usage: 264.7+ KB\n",
      "<class 'pandas.core.frame.DataFrame'>\n",
      "RangeIndex: 10 entries, 0 to 9\n",
      "Data columns (total 6 columns):\n",
      " #   Column               Non-Null Count  Dtype \n",
      "---  ------               --------------  ----- \n",
      " 0   sl_n                 10 non-null     object\n",
      " 1   depot                10 non-null     object\n",
      " 2   fleet                10 non-null     object\n",
      " 3   agency               10 non-null     object\n",
      " 4   existing_amnex_iemi  9 non-null      object\n",
      " 5   amnex_iemi_updated   10 non-null     object\n",
      "dtypes: object(6)\n",
      "memory usage: 612.0+ bytes\n"
     ]
    }
   ],
   "source": [
    "old.info()\n",
    "amenx_update.info()\n",
    "# chalo_update.info()"
   ]
  },
  {
   "cell_type": "code",
   "execution_count": 5,
   "metadata": {},
   "outputs": [
    {
     "name": "stdout",
     "output_type": "stream",
     "text": [
      "Number of rows where both obu_iemi and chalo_deviceid are NA: 0\n"
     ]
    },
    {
     "data": {
      "text/html": [
       "<div>\n",
       "<style scoped>\n",
       "    .dataframe tbody tr th:only-of-type {\n",
       "        vertical-align: middle;\n",
       "    }\n",
       "\n",
       "    .dataframe tbody tr th {\n",
       "        vertical-align: top;\n",
       "    }\n",
       "\n",
       "    .dataframe thead th {\n",
       "        text-align: right;\n",
       "    }\n",
       "</style>\n",
       "<table border=\"1\" class=\"dataframe\">\n",
       "  <thead>\n",
       "    <tr style=\"text-align: right;\">\n",
       "      <th></th>\n",
       "      <th>dep</th>\n",
       "      <th>fleet</th>\n",
       "      <th>type</th>\n",
       "      <th>regndate</th>\n",
       "      <th>obu_iemi</th>\n",
       "      <th>chalo_deviceid</th>\n",
       "      <th>date</th>\n",
       "      <th>vehicle_number</th>\n",
       "      <th>depot</th>\n",
       "      <th>ny_device_id</th>\n",
       "    </tr>\n",
       "  </thead>\n",
       "  <tbody>\n",
       "  </tbody>\n",
       "</table>\n",
       "</div>"
      ],
      "text/plain": [
       "Empty DataFrame\n",
       "Columns: [dep, fleet, type, regndate, obu_iemi, chalo_deviceid, date, vehicle_number, depot, ny_device_id]\n",
       "Index: []"
      ]
     },
     "execution_count": 5,
     "metadata": {},
     "output_type": "execute_result"
    }
   ],
   "source": [
    "# Count rows where both obu_iemi and chalo_deviceid are NA\n",
    "na_df = old[(old['obu_iemi'].isna()) & (old['chalo_deviceid'].isna())]\n",
    "na_count = na_df.shape[0]\n",
    "print(f\"Number of rows where both obu_iemi and chalo_deviceid are NA: {na_count}\")\n",
    "na_df\n"
   ]
  },
  {
   "cell_type": "code",
   "execution_count": 6,
   "metadata": {},
   "outputs": [
    {
     "name": "stdout",
     "output_type": "stream",
     "text": [
      "Number of rows where both obu_iemi and chalo_deviceid are NA: 0\n"
     ]
    }
   ],
   "source": [
    "old_copy = old.copy()\n",
    "\n",
    "na_count = old_copy[(old_copy['obu_iemi'].isna()) & (\n",
    "    old_copy['chalo_deviceid'].isna())].shape[0]\n",
    "print(\n",
    "    f\"Number of rows where both obu_iemi and chalo_deviceid are NA: {na_count}\")"
   ]
  },
  {
   "cell_type": "code",
   "execution_count": 7,
   "metadata": {},
   "outputs": [],
   "source": [
    "# Merge the dataframes on 'fleet' column to align indices\n",
    "amenx_merged_df = pd.merge(old_copy, amenx_update[['fleet', 'amnex_iemi_updated']], \n",
    "                    on='fleet', how='left')\n",
    "\n",
    "# Update obu_iemi where amnex_iemi_updated exists\n",
    "old_copy['obu_iemi'] = np.where(\n",
    "      (old_copy['fleet'] == amenx_merged_df['fleet']) & \n",
    "      (amenx_merged_df['amnex_iemi_updated'].notna()), \n",
    "    amenx_merged_df['amnex_iemi_updated'], old_copy['obu_iemi'])"
   ]
  },
  {
   "cell_type": "code",
   "execution_count": 8,
   "metadata": {},
   "outputs": [
    {
     "data": {
      "text/html": [
       "<div>\n",
       "<style scoped>\n",
       "    .dataframe tbody tr th:only-of-type {\n",
       "        vertical-align: middle;\n",
       "    }\n",
       "\n",
       "    .dataframe tbody tr th {\n",
       "        vertical-align: top;\n",
       "    }\n",
       "\n",
       "    .dataframe thead th {\n",
       "        text-align: right;\n",
       "    }\n",
       "</style>\n",
       "<table border=\"1\" class=\"dataframe\">\n",
       "  <thead>\n",
       "    <tr style=\"text-align: right;\">\n",
       "      <th></th>\n",
       "      <th>dep</th>\n",
       "      <th>fleet</th>\n",
       "      <th>type</th>\n",
       "      <th>regndate</th>\n",
       "      <th>obu_iemi</th>\n",
       "      <th>chalo_deviceid</th>\n",
       "      <th>date</th>\n",
       "      <th>vehicle_number</th>\n",
       "      <th>depot</th>\n",
       "      <th>ny_device_id</th>\n",
       "      <th>amnex_iemi_updated</th>\n",
       "    </tr>\n",
       "  </thead>\n",
       "  <tbody>\n",
       "    <tr>\n",
       "      <th>0</th>\n",
       "      <td>AN</td>\n",
       "      <td>I0001</td>\n",
       "      <td>ORDI</td>\n",
       "      <td>2006-07-10</td>\n",
       "      <td>NaN</td>\n",
       "      <td>869244042749626</td>\n",
       "      <td>2025-04-24T11:57:08</td>\n",
       "      <td>NaN</td>\n",
       "      <td>NaN</td>\n",
       "      <td>NaN</td>\n",
       "      <td>NaN</td>\n",
       "    </tr>\n",
       "    <tr>\n",
       "      <th>1</th>\n",
       "      <td>AN</td>\n",
       "      <td>I0504</td>\n",
       "      <td>ORDI</td>\n",
       "      <td>2007-07-13</td>\n",
       "      <td>NaN</td>\n",
       "      <td>869244044664427</td>\n",
       "      <td>2025-04-17T11:24:49</td>\n",
       "      <td>NaN</td>\n",
       "      <td>NaN</td>\n",
       "      <td>NaN</td>\n",
       "      <td>NaN</td>\n",
       "    </tr>\n",
       "    <tr>\n",
       "      <th>2</th>\n",
       "      <td>AN</td>\n",
       "      <td>I0508</td>\n",
       "      <td>ORDI</td>\n",
       "      <td>2007-07-13</td>\n",
       "      <td>NaN</td>\n",
       "      <td>869244044490302</td>\n",
       "      <td>2025-04-24T11:57:08</td>\n",
       "      <td>NaN</td>\n",
       "      <td>NaN</td>\n",
       "      <td>NaN</td>\n",
       "      <td>NaN</td>\n",
       "    </tr>\n",
       "    <tr>\n",
       "      <th>3</th>\n",
       "      <td>AD</td>\n",
       "      <td>I0510</td>\n",
       "      <td>ORDI</td>\n",
       "      <td>2007-07-19</td>\n",
       "      <td>NaN</td>\n",
       "      <td>869244044492688</td>\n",
       "      <td>2025-04-17T11:24:49</td>\n",
       "      <td>NaN</td>\n",
       "      <td>NaN</td>\n",
       "      <td>NaN</td>\n",
       "      <td>NaN</td>\n",
       "    </tr>\n",
       "    <tr>\n",
       "      <th>4</th>\n",
       "      <td>CW</td>\n",
       "      <td>I0515</td>\n",
       "      <td>ORDI</td>\n",
       "      <td>2007-08-01</td>\n",
       "      <td>NaN</td>\n",
       "      <td>869244044500415</td>\n",
       "      <td>2025-04-17T11:24:49</td>\n",
       "      <td>NaN</td>\n",
       "      <td>NaN</td>\n",
       "      <td>NaN</td>\n",
       "      <td>NaN</td>\n",
       "    </tr>\n",
       "    <tr>\n",
       "      <th>...</th>\n",
       "      <td>...</td>\n",
       "      <td>...</td>\n",
       "      <td>...</td>\n",
       "      <td>...</td>\n",
       "      <td>...</td>\n",
       "      <td>...</td>\n",
       "      <td>...</td>\n",
       "      <td>...</td>\n",
       "      <td>...</td>\n",
       "      <td>...</td>\n",
       "      <td>...</td>\n",
       "    </tr>\n",
       "    <tr>\n",
       "      <th>3381</th>\n",
       "      <td>AN</td>\n",
       "      <td>S0006</td>\n",
       "      <td>AC</td>\n",
       "      <td>2020-02-07</td>\n",
       "      <td>867383050933771</td>\n",
       "      <td>869244042625834</td>\n",
       "      <td>2025-04-17T11:24:49</td>\n",
       "      <td>TN45N4325</td>\n",
       "      <td>Annanagar Depot</td>\n",
       "      <td>NaN</td>\n",
       "      <td>NaN</td>\n",
       "    </tr>\n",
       "    <tr>\n",
       "      <th>3382</th>\n",
       "      <td>AB</td>\n",
       "      <td>S0007</td>\n",
       "      <td>MINI</td>\n",
       "      <td>2016-02-29</td>\n",
       "      <td>862607059149962</td>\n",
       "      <td>868728039287195</td>\n",
       "      <td>2025-04-17T11:24:49</td>\n",
       "      <td>TN01AN1375</td>\n",
       "      <td>Adambakkam Depot</td>\n",
       "      <td>NaN</td>\n",
       "      <td>NaN</td>\n",
       "    </tr>\n",
       "    <tr>\n",
       "      <th>3383</th>\n",
       "      <td>TR</td>\n",
       "      <td>S0008</td>\n",
       "      <td>MINI</td>\n",
       "      <td>2016-03-01</td>\n",
       "      <td>868922051347470</td>\n",
       "      <td>869244042750939</td>\n",
       "      <td>2025-04-17T11:24:49</td>\n",
       "      <td>TN01AN1401</td>\n",
       "      <td>Thiruvanmiyur Depot</td>\n",
       "      <td>NaN</td>\n",
       "      <td>NaN</td>\n",
       "    </tr>\n",
       "    <tr>\n",
       "      <th>3384</th>\n",
       "      <td>KB</td>\n",
       "      <td>S0009</td>\n",
       "      <td>AC</td>\n",
       "      <td>2019-11-05</td>\n",
       "      <td>867032053718917</td>\n",
       "      <td>NaN</td>\n",
       "      <td>2025-04-17T11:24:49</td>\n",
       "      <td>TN72N2226</td>\n",
       "      <td>Kilambakkam Depot</td>\n",
       "      <td>NaN</td>\n",
       "      <td>NaN</td>\n",
       "    </tr>\n",
       "    <tr>\n",
       "      <th>3385</th>\n",
       "      <td>KB</td>\n",
       "      <td>S0010</td>\n",
       "      <td>AC</td>\n",
       "      <td>2019-10-21</td>\n",
       "      <td>864513041509073</td>\n",
       "      <td>NaN</td>\n",
       "      <td>2025-04-17T11:24:49</td>\n",
       "      <td>TN72N2131</td>\n",
       "      <td>Kilambakkam Depot</td>\n",
       "      <td>NaN</td>\n",
       "      <td>NaN</td>\n",
       "    </tr>\n",
       "  </tbody>\n",
       "</table>\n",
       "<p>3386 rows × 11 columns</p>\n",
       "</div>"
      ],
      "text/plain": [
       "     dep  fleet  type    regndate         obu_iemi   chalo_deviceid  \\\n",
       "0     AN  I0001  ORDI  2006-07-10              NaN  869244042749626   \n",
       "1     AN  I0504  ORDI  2007-07-13              NaN  869244044664427   \n",
       "2     AN  I0508  ORDI  2007-07-13              NaN  869244044490302   \n",
       "3     AD  I0510  ORDI  2007-07-19              NaN  869244044492688   \n",
       "4     CW  I0515  ORDI  2007-08-01              NaN  869244044500415   \n",
       "...   ..    ...   ...         ...              ...              ...   \n",
       "3381  AN  S0006    AC  2020-02-07  867383050933771  869244042625834   \n",
       "3382  AB  S0007  MINI  2016-02-29  862607059149962  868728039287195   \n",
       "3383  TR  S0008  MINI  2016-03-01  868922051347470  869244042750939   \n",
       "3384  KB  S0009    AC  2019-11-05  867032053718917              NaN   \n",
       "3385  KB  S0010    AC  2019-10-21  864513041509073              NaN   \n",
       "\n",
       "                     date vehicle_number                depot ny_device_id  \\\n",
       "0     2025-04-24T11:57:08            NaN                  NaN          NaN   \n",
       "1     2025-04-17T11:24:49            NaN                  NaN          NaN   \n",
       "2     2025-04-24T11:57:08            NaN                  NaN          NaN   \n",
       "3     2025-04-17T11:24:49            NaN                  NaN          NaN   \n",
       "4     2025-04-17T11:24:49            NaN                  NaN          NaN   \n",
       "...                   ...            ...                  ...          ...   \n",
       "3381  2025-04-17T11:24:49      TN45N4325      Annanagar Depot          NaN   \n",
       "3382  2025-04-17T11:24:49     TN01AN1375     Adambakkam Depot          NaN   \n",
       "3383  2025-04-17T11:24:49     TN01AN1401  Thiruvanmiyur Depot          NaN   \n",
       "3384  2025-04-17T11:24:49      TN72N2226    Kilambakkam Depot          NaN   \n",
       "3385  2025-04-17T11:24:49      TN72N2131    Kilambakkam Depot          NaN   \n",
       "\n",
       "     amnex_iemi_updated  \n",
       "0                   NaN  \n",
       "1                   NaN  \n",
       "2                   NaN  \n",
       "3                   NaN  \n",
       "4                   NaN  \n",
       "...                 ...  \n",
       "3381                NaN  \n",
       "3382                NaN  \n",
       "3383                NaN  \n",
       "3384                NaN  \n",
       "3385                NaN  \n",
       "\n",
       "[3386 rows x 11 columns]"
      ]
     },
     "execution_count": 8,
     "metadata": {},
     "output_type": "execute_result"
    }
   ],
   "source": [
    "amenx_merged_df"
   ]
  },
  {
   "cell_type": "code",
   "execution_count": 48,
   "metadata": {},
   "outputs": [],
   "source": [
    "chalo_merged_df = pd.merge(old_copy, chalo_update[['fleet', 'chalo_iemi_updated']],\n",
    "                           on='fleet', how='left')\n",
    "\n",
    "old_copy['chalo_deviceid'] = np.where(\n",
    "    (old_copy['fleet'] == chalo_merged_df['fleet']) &\n",
    "    (chalo_merged_df['chalo_iemi_updated'].notna()),\n",
    "  chalo_merged_df['chalo_iemi_updated'], old_copy['chalo_deviceid'])"
   ]
  },
  {
   "cell_type": "code",
   "execution_count": 9,
   "metadata": {},
   "outputs": [
    {
     "name": "stdout",
     "output_type": "stream",
     "text": [
      "Number of rows where both obu_iemi and chalo_deviceid are NA: 0\n"
     ]
    }
   ],
   "source": [
    "na_count = old_copy[(old_copy['obu_iemi'].isna()) & (\n",
    "    old_copy['chalo_deviceid'].isna())].shape[0]\n",
    "print(\n",
    "    f\"Number of rows where both obu_iemi and chalo_deviceid are NA: {na_count}\")"
   ]
  },
  {
   "cell_type": "code",
   "execution_count": 10,
   "metadata": {},
   "outputs": [],
   "source": [
    "old_copy.to_csv(f'output/{date}/fleet-device-mapping-{date}.csv', index=False)"
   ]
  },
  {
   "cell_type": "code",
   "execution_count": null,
   "metadata": {},
   "outputs": [],
   "source": []
  }
 ],
 "metadata": {
  "kernelspec": {
   "display_name": ".venv",
   "language": "python",
   "name": "python3"
  },
  "language_info": {
   "codemirror_mode": {
    "name": "ipython",
    "version": 3
   },
   "file_extension": ".py",
   "mimetype": "text/x-python",
   "name": "python",
   "nbconvert_exporter": "python",
   "pygments_lexer": "ipython3",
   "version": "3.13.3"
  }
 },
 "nbformat": 4,
 "nbformat_minor": 2
}
