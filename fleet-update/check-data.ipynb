{
 "cells": [
  {
   "cell_type": "code",
   "execution_count": 2,
   "metadata": {},
   "outputs": [
    {
     "data": {
      "text/plain": [
       "'30-05-2025'"
      ]
     },
     "execution_count": 2,
     "metadata": {},
     "output_type": "execute_result"
    }
   ],
   "source": [
    "import pandas as pd\n",
    "import numpy as np\n",
    "from datetime import datetime\n",
    "\n",
    "date = datetime.now().strftime('%d-%m-%Y')\n",
    "# date = '26-05-2025'\n",
    "date"
   ]
  },
  {
   "cell_type": "code",
   "execution_count": 3,
   "metadata": {},
   "outputs": [],
   "source": [
    "# fdm = pd.read_csv(f\"./input/{date}/fleet-device-mapping.csv\")\n",
    "fdm = pd.read_csv(f\"./output/{date}/fleet-device-mapping-updated.csv\", dtype=str)"
   ]
  },
  {
   "cell_type": "code",
   "execution_count": 4,
   "metadata": {},
   "outputs": [
    {
     "name": "stdout",
     "output_type": "stream",
     "text": [
      "Number of rows where both obu_iemi and chalo_deviceid are NA: 0\n"
     ]
    }
   ],
   "source": [
    "na_count = fdm[(fdm['obu_iemi'].isna()) & (\n",
    "    fdm['chalo_deviceid'].isna())].shape[0]\n",
    "print(\n",
    "    f\"Number of rows where both obu_iemi and chalo_deviceid are NA: {na_count}\")"
   ]
  },
  {
   "cell_type": "code",
   "execution_count": 5,
   "metadata": {},
   "outputs": [
    {
     "name": "stdout",
     "output_type": "stream",
     "text": [
      "\n",
      "Found duplicate OBU IMEI numbers in fleet-device-mapping.csv:\n",
      "8\n",
      "     dep  fleet  type    regndate         obu_iemi    chalo_deviceid  \\\n",
      "10    BB  I0709  ORDI  2007-08-17  864513041513471               NaN   \n",
      "386   MV  I2922  ORDI  2010-03-01  862607059102813  869244044530974    \n",
      "423   TD  I2968  ORDI  2010-04-05  864513041513471               NaN   \n",
      "434   MV  I2992  ORDI  2010-04-19  862607059102813  358250330740993    \n",
      "999   PM  J0484  ORDA  2015-10-09  862547054019788  869244044491375    \n",
      "1741  IY  J1237  ORDR  2019-05-07  864650056121905  869244044496028    \n",
      "1874  PM  J1370  ORDR  2019-07-03  862547054019788               NaN   \n",
      "2392  IY  J1908  ORDR  2020-03-12  864650056121905  869244044496648    \n",
      "\n",
      "                     date vehicle_number                  depot ny_device_id  \n",
      "10    2025-04-17T11:24:49      TN01N4674      Basinbridge Depot          NaN  \n",
      "386   2025-04-17T11:24:49      TN01N8861       Madahvaram Depot          NaN  \n",
      "423   2025-04-17T11:24:49      TN01N9424     Tondiarpet-1 Depot          NaN  \n",
      "434   2025-04-17T11:24:49      TN01N9509       Madahvaram Depot          NaN  \n",
      "999   2025-04-17T11:24:49     TN01AN1148      Poonamallee Depot          NaN  \n",
      "1741  2025-04-17T11:24:49     TN01AN2304  Iyyappanthangal Depot          NaN  \n",
      "1874  2025-04-17T11:24:49     TN01AN2799      Poonamallee Depot          NaN  \n",
      "2392  2025-04-17T11:24:49     TN01AN3799  Iyyappanthangal Depot          NaN  \n"
     ]
    }
   ],
   "source": [
    "# Check for duplicates in the obu_iemi file\n",
    "duplicate_rows_df = fdm[fdm['obu_iemi'].notna() & fdm.duplicated(subset=[\n",
    "    'obu_iemi'], keep=False)]\n",
    "if len(duplicate_rows_df) > 0:\n",
    "    print(\"\\nFound duplicate OBU IMEI numbers in fleet-device-mapping.csv:\")\n",
    "    print(len(duplicate_rows_df))\n",
    "    print(duplicate_rows_df)\n",
    "else:\n",
    "    print(\"\\nNo duplicate OBU IMEI numbers found in fleet-device-mapping.csv\")\n",
    "\n",
    "duplicate_rows_df.to_csv(\n",
    "    f\"output/{date}/duplicate-obu-imei.csv\", index=False)"
   ]
  },
  {
   "cell_type": "code",
   "execution_count": 6,
   "metadata": {},
   "outputs": [
    {
     "name": "stdout",
     "output_type": "stream",
     "text": [
      "\n",
      "No duplicate Chalo Device IDs found\n"
     ]
    }
   ],
   "source": [
    "# Check for duplicates in the chalo_deviceid column\n",
    "duplicate_chalo_ids = fdm[fdm['chalo_deviceid'].notna(\n",
    ") & fdm.duplicated(subset=['chalo_deviceid'], keep=False)]\n",
    "if len(duplicate_chalo_ids) > 0:\n",
    "    print(\"\\nFound duplicate Chalo Device IDs:\")\n",
    "    print(len(duplicate_chalo_ids))\n",
    "    print(duplicate_chalo_ids)\n",
    "else:\n",
    "    print(\"\\nNo duplicate Chalo Device IDs found\")\n",
    "\n",
    "duplicate_chalo_ids.to_csv(\n",
    "    f\"output/{date}/duplicate-chalo-device-ids.csv\", index=False)"
   ]
  },
  {
   "cell_type": "code",
   "execution_count": null,
   "metadata": {},
   "outputs": [],
   "source": []
  }
 ],
 "metadata": {
  "kernelspec": {
   "display_name": ".venv",
   "language": "python",
   "name": "python3"
  },
  "language_info": {
   "codemirror_mode": {
    "name": "ipython",
    "version": 3
   },
   "file_extension": ".py",
   "mimetype": "text/x-python",
   "name": "python",
   "nbconvert_exporter": "python",
   "pygments_lexer": "ipython3",
   "version": "3.13.3"
  }
 },
 "nbformat": 4,
 "nbformat_minor": 2
}
