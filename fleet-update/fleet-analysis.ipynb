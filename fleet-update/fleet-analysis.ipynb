{
 "cells": [
  {
   "cell_type": "code",
   "execution_count": 88,
   "metadata": {},
   "outputs": [],
   "source": [
    "import pandas as pd\n",
    "import numpy as np\n",
    "from datetime import datetime"
   ]
  },
  {
   "cell_type": "code",
   "execution_count": 89,
   "metadata": {},
   "outputs": [
    {
     "data": {
      "text/plain": [
       "'20-05-2025'"
      ]
     },
     "execution_count": 89,
     "metadata": {},
     "output_type": "execute_result"
    }
   ],
   "source": [
    "# date = datetime.now().strftime('%d-%m-%Y')\n",
    "date = '20-05-2025'\n",
    "date"
   ]
  },
  {
   "cell_type": "code",
   "execution_count": 90,
   "metadata": {},
   "outputs": [],
   "source": [
    "new = pd.read_csv(f'input/{date}/obu_mapping_18-03-2025.csv', dtype=str)\n",
    "old = pd.read_csv(f'input/{date}/fleet_device_mapping.csv', dtype=str)\n",
    "\n",
    "# Convert column names to snake case and remove special characters\n",
    "new.columns = new.columns.str.lower().str.replace('[^a-zA-Z0-9]', '_', regex=True).str.replace('__+', '_', regex=True).str.strip('_').str.strip()\n",
    "old.columns = old.columns.str.lower().str.replace('[^a-zA-Z0-9]', '_', regex=True).str.replace('__+', '_', regex=True).str.strip('_').str.strip()"
   ]
  },
  {
   "cell_type": "code",
   "execution_count": 91,
   "metadata": {},
   "outputs": [
    {
     "name": "stdout",
     "output_type": "stream",
     "text": [
      "<class 'pandas.core.frame.DataFrame'>\n",
      "RangeIndex: 2587 entries, 0 to 2586\n",
      "Data columns (total 6 columns):\n",
      " #   Column              Non-Null Count  Dtype \n",
      "---  ------              --------------  ----- \n",
      " 0   sr_no               2587 non-null   object\n",
      " 1   depot               2587 non-null   object\n",
      " 2   vehicle_reg_number  2587 non-null   object\n",
      " 3   fleet_number        2587 non-null   object\n",
      " 4   obu_device_id       2587 non-null   object\n",
      " 5   created_date        2587 non-null   object\n",
      "dtypes: object(6)\n",
      "memory usage: 121.4+ KB\n"
     ]
    }
   ],
   "source": [
    "new.info()"
   ]
  },
  {
   "cell_type": "code",
   "execution_count": 92,
   "metadata": {},
   "outputs": [
    {
     "name": "stdout",
     "output_type": "stream",
     "text": [
      "<class 'pandas.core.frame.DataFrame'>\n",
      "RangeIndex: 3387 entries, 0 to 3386\n",
      "Data columns (total 10 columns):\n",
      " #   Column          Non-Null Count  Dtype \n",
      "---  ------          --------------  ----- \n",
      " 0   dep             3387 non-null   object\n",
      " 1   fleet           3387 non-null   object\n",
      " 2   type            3385 non-null   object\n",
      " 3   regndate        3387 non-null   object\n",
      " 4   obu_iemi        3114 non-null   object\n",
      " 5   chalo_deviceid  2051 non-null   object\n",
      " 6   date            3387 non-null   object\n",
      " 7   vehicle_number  9 non-null      object\n",
      " 8   depot           1 non-null      object\n",
      " 9   ny_device_id    8 non-null      object\n",
      "dtypes: object(10)\n",
      "memory usage: 264.7+ KB\n"
     ]
    }
   ],
   "source": [
    "old.info()"
   ]
  },
  {
   "cell_type": "code",
   "execution_count": 93,
   "metadata": {},
   "outputs": [
    {
     "data": {
      "text/html": [
       "<div>\n",
       "<style scoped>\n",
       "    .dataframe tbody tr th:only-of-type {\n",
       "        vertical-align: middle;\n",
       "    }\n",
       "\n",
       "    .dataframe tbody tr th {\n",
       "        vertical-align: top;\n",
       "    }\n",
       "\n",
       "    .dataframe thead th {\n",
       "        text-align: right;\n",
       "    }\n",
       "</style>\n",
       "<table border=\"1\" class=\"dataframe\">\n",
       "  <thead>\n",
       "    <tr style=\"text-align: right;\">\n",
       "      <th></th>\n",
       "      <th>dep</th>\n",
       "      <th>fleet</th>\n",
       "      <th>type</th>\n",
       "      <th>regndate</th>\n",
       "      <th>obu_iemi</th>\n",
       "      <th>chalo_deviceid</th>\n",
       "      <th>date</th>\n",
       "      <th>vehicle_number</th>\n",
       "      <th>depot</th>\n",
       "      <th>ny_device_id</th>\n",
       "    </tr>\n",
       "  </thead>\n",
       "  <tbody>\n",
       "  </tbody>\n",
       "</table>\n",
       "</div>"
      ],
      "text/plain": [
       "Empty DataFrame\n",
       "Columns: [dep, fleet, type, regndate, obu_iemi, chalo_deviceid, date, vehicle_number, depot, ny_device_id]\n",
       "Index: []"
      ]
     },
     "execution_count": 93,
     "metadata": {},
     "output_type": "execute_result"
    }
   ],
   "source": [
    "old[old['fleet'].duplicated(keep=False)].sort_values('fleet')"
   ]
  },
  {
   "cell_type": "code",
   "execution_count": 94,
   "metadata": {},
   "outputs": [
    {
     "data": {
      "text/html": [
       "<div>\n",
       "<style scoped>\n",
       "    .dataframe tbody tr th:only-of-type {\n",
       "        vertical-align: middle;\n",
       "    }\n",
       "\n",
       "    .dataframe tbody tr th {\n",
       "        vertical-align: top;\n",
       "    }\n",
       "\n",
       "    .dataframe thead th {\n",
       "        text-align: right;\n",
       "    }\n",
       "</style>\n",
       "<table border=\"1\" class=\"dataframe\">\n",
       "  <thead>\n",
       "    <tr style=\"text-align: right;\">\n",
       "      <th></th>\n",
       "      <th>dep</th>\n",
       "      <th>fleet</th>\n",
       "      <th>type</th>\n",
       "      <th>regndate</th>\n",
       "      <th>obu_iemi</th>\n",
       "      <th>chalo_deviceid</th>\n",
       "      <th>date</th>\n",
       "      <th>vehicle_number</th>\n",
       "      <th>depot_x</th>\n",
       "      <th>ny_device_id</th>\n",
       "      <th>sr_no</th>\n",
       "      <th>depot_y</th>\n",
       "      <th>vehicle_reg_number</th>\n",
       "      <th>fleet_number</th>\n",
       "      <th>obu_device_id</th>\n",
       "      <th>created_date</th>\n",
       "    </tr>\n",
       "  </thead>\n",
       "  <tbody>\n",
       "    <tr>\n",
       "      <th>0</th>\n",
       "      <td>PR</td>\n",
       "      <td>J0236</td>\n",
       "      <td>ORDI</td>\n",
       "      <td>2013-06-14</td>\n",
       "      <td>862607059094994</td>\n",
       "      <td>NaN</td>\n",
       "      <td>2025-04-17T11:24:49</td>\n",
       "      <td>NaN</td>\n",
       "      <td>NaN</td>\n",
       "      <td>NaN</td>\n",
       "      <td>1729</td>\n",
       "      <td>Perambur Depot</td>\n",
       "      <td>TN01AN0628</td>\n",
       "      <td>J0236</td>\n",
       "      <td>862607059094994</td>\n",
       "      <td>2024-03-04T22:30:44.762454</td>\n",
       "    </tr>\n",
       "    <tr>\n",
       "      <th>1</th>\n",
       "      <td>AM</td>\n",
       "      <td>J0237</td>\n",
       "      <td>ORDI</td>\n",
       "      <td>2013-06-14</td>\n",
       "      <td>862607059102656</td>\n",
       "      <td>868728039343634</td>\n",
       "      <td>2025-04-17T11:24:49</td>\n",
       "      <td>NaN</td>\n",
       "      <td>NaN</td>\n",
       "      <td>NaN</td>\n",
       "      <td>1304</td>\n",
       "      <td>Ambathur Depot</td>\n",
       "      <td>TN01AN0625</td>\n",
       "      <td>J0237</td>\n",
       "      <td>862607059102656</td>\n",
       "      <td>2024-03-04T22:30:44.762454</td>\n",
       "    </tr>\n",
       "    <tr>\n",
       "      <th>2</th>\n",
       "      <td>AN</td>\n",
       "      <td>J0238</td>\n",
       "      <td>ORDI</td>\n",
       "      <td>2013-06-14</td>\n",
       "      <td>862607059210541</td>\n",
       "      <td>NaN</td>\n",
       "      <td>2025-04-17T11:24:49</td>\n",
       "      <td>NaN</td>\n",
       "      <td>NaN</td>\n",
       "      <td>NaN</td>\n",
       "      <td>1466</td>\n",
       "      <td>Annanagar Depot</td>\n",
       "      <td>TN01AN0632</td>\n",
       "      <td>J0238</td>\n",
       "      <td>862607059210541</td>\n",
       "      <td>2024-03-04T22:30:44.762454</td>\n",
       "    </tr>\n",
       "    <tr>\n",
       "      <th>3</th>\n",
       "      <td>EN</td>\n",
       "      <td>J0239</td>\n",
       "      <td>ORDI</td>\n",
       "      <td>2013-06-14</td>\n",
       "      <td>862607052169082</td>\n",
       "      <td>869244044516361</td>\n",
       "      <td>2025-04-17T11:24:49</td>\n",
       "      <td>NaN</td>\n",
       "      <td>NaN</td>\n",
       "      <td>NaN</td>\n",
       "      <td>445</td>\n",
       "      <td>Ennore Depot</td>\n",
       "      <td>TN01AN0630</td>\n",
       "      <td>J0239</td>\n",
       "      <td>862607052169082</td>\n",
       "      <td>2024-03-04T22:30:44.762454</td>\n",
       "    </tr>\n",
       "    <tr>\n",
       "      <th>4</th>\n",
       "      <td>PR</td>\n",
       "      <td>J0240</td>\n",
       "      <td>ORDI</td>\n",
       "      <td>2013-06-14</td>\n",
       "      <td>862607055711781</td>\n",
       "      <td>869244044535106</td>\n",
       "      <td>2025-04-17T11:24:49</td>\n",
       "      <td>NaN</td>\n",
       "      <td>NaN</td>\n",
       "      <td>NaN</td>\n",
       "      <td>1798</td>\n",
       "      <td>Perambur Depot</td>\n",
       "      <td>TN01AN0619</td>\n",
       "      <td>J0240</td>\n",
       "      <td>862607055711781</td>\n",
       "      <td>2024-03-04T22:30:44.762454</td>\n",
       "    </tr>\n",
       "    <tr>\n",
       "      <th>...</th>\n",
       "      <td>...</td>\n",
       "      <td>...</td>\n",
       "      <td>...</td>\n",
       "      <td>...</td>\n",
       "      <td>...</td>\n",
       "      <td>...</td>\n",
       "      <td>...</td>\n",
       "      <td>...</td>\n",
       "      <td>...</td>\n",
       "      <td>...</td>\n",
       "      <td>...</td>\n",
       "      <td>...</td>\n",
       "      <td>...</td>\n",
       "      <td>...</td>\n",
       "      <td>...</td>\n",
       "      <td>...</td>\n",
       "    </tr>\n",
       "    <tr>\n",
       "      <th>3382</th>\n",
       "      <td>PM</td>\n",
       "      <td>K0741</td>\n",
       "      <td>LF-K</td>\n",
       "      <td>2024-12-16</td>\n",
       "      <td>866041042272895</td>\n",
       "      <td>NaN</td>\n",
       "      <td>2025-04-17T11:24:49</td>\n",
       "      <td>NaN</td>\n",
       "      <td>NaN</td>\n",
       "      <td>NaN</td>\n",
       "      <td>NaN</td>\n",
       "      <td>NaN</td>\n",
       "      <td>NaN</td>\n",
       "      <td>NaN</td>\n",
       "      <td>NaN</td>\n",
       "      <td>NaN</td>\n",
       "    </tr>\n",
       "    <tr>\n",
       "      <th>3383</th>\n",
       "      <td>PM</td>\n",
       "      <td>K0742</td>\n",
       "      <td>LF-K</td>\n",
       "      <td>2024-12-16</td>\n",
       "      <td>862607059117969</td>\n",
       "      <td>NaN</td>\n",
       "      <td>2025-04-17T11:24:49</td>\n",
       "      <td>NaN</td>\n",
       "      <td>NaN</td>\n",
       "      <td>NaN</td>\n",
       "      <td>NaN</td>\n",
       "      <td>NaN</td>\n",
       "      <td>NaN</td>\n",
       "      <td>NaN</td>\n",
       "      <td>NaN</td>\n",
       "      <td>NaN</td>\n",
       "    </tr>\n",
       "    <tr>\n",
       "      <th>3384</th>\n",
       "      <td>PM</td>\n",
       "      <td>K0743</td>\n",
       "      <td>LF-K</td>\n",
       "      <td>2024-12-16</td>\n",
       "      <td>864337053466661</td>\n",
       "      <td>NaN</td>\n",
       "      <td>2025-04-17T11:24:49</td>\n",
       "      <td>NaN</td>\n",
       "      <td>NaN</td>\n",
       "      <td>NaN</td>\n",
       "      <td>NaN</td>\n",
       "      <td>NaN</td>\n",
       "      <td>NaN</td>\n",
       "      <td>NaN</td>\n",
       "      <td>NaN</td>\n",
       "      <td>NaN</td>\n",
       "    </tr>\n",
       "    <tr>\n",
       "      <th>3385</th>\n",
       "      <td>PM</td>\n",
       "      <td>K0744</td>\n",
       "      <td>LF-K</td>\n",
       "      <td>2024-12-16</td>\n",
       "      <td>864513042810546</td>\n",
       "      <td>NaN</td>\n",
       "      <td>2025-04-17T11:24:49</td>\n",
       "      <td>NaN</td>\n",
       "      <td>NaN</td>\n",
       "      <td>NaN</td>\n",
       "      <td>NaN</td>\n",
       "      <td>NaN</td>\n",
       "      <td>NaN</td>\n",
       "      <td>NaN</td>\n",
       "      <td>NaN</td>\n",
       "      <td>NaN</td>\n",
       "    </tr>\n",
       "    <tr>\n",
       "      <th>3386</th>\n",
       "      <td>PM</td>\n",
       "      <td>K0745</td>\n",
       "      <td>LF-G</td>\n",
       "      <td>2025-02-03</td>\n",
       "      <td>867032053707233</td>\n",
       "      <td>NaN</td>\n",
       "      <td>2025-04-17T11:24:49</td>\n",
       "      <td>NaN</td>\n",
       "      <td>NaN</td>\n",
       "      <td>NaN</td>\n",
       "      <td>NaN</td>\n",
       "      <td>NaN</td>\n",
       "      <td>NaN</td>\n",
       "      <td>NaN</td>\n",
       "      <td>NaN</td>\n",
       "      <td>NaN</td>\n",
       "    </tr>\n",
       "  </tbody>\n",
       "</table>\n",
       "<p>3387 rows × 16 columns</p>\n",
       "</div>"
      ],
      "text/plain": [
       "     dep  fleet  type    regndate         obu_iemi   chalo_deviceid  \\\n",
       "0     PR  J0236  ORDI  2013-06-14  862607059094994              NaN   \n",
       "1     AM  J0237  ORDI  2013-06-14  862607059102656  868728039343634   \n",
       "2     AN  J0238  ORDI  2013-06-14  862607059210541              NaN   \n",
       "3     EN  J0239  ORDI  2013-06-14  862607052169082  869244044516361   \n",
       "4     PR  J0240  ORDI  2013-06-14  862607055711781  869244044535106   \n",
       "...   ..    ...   ...         ...              ...              ...   \n",
       "3382  PM  K0741  LF-K  2024-12-16  866041042272895              NaN   \n",
       "3383  PM  K0742  LF-K  2024-12-16  862607059117969              NaN   \n",
       "3384  PM  K0743  LF-K  2024-12-16  864337053466661              NaN   \n",
       "3385  PM  K0744  LF-K  2024-12-16  864513042810546              NaN   \n",
       "3386  PM  K0745  LF-G  2025-02-03  867032053707233              NaN   \n",
       "\n",
       "                     date vehicle_number depot_x ny_device_id sr_no  \\\n",
       "0     2025-04-17T11:24:49            NaN     NaN          NaN  1729   \n",
       "1     2025-04-17T11:24:49            NaN     NaN          NaN  1304   \n",
       "2     2025-04-17T11:24:49            NaN     NaN          NaN  1466   \n",
       "3     2025-04-17T11:24:49            NaN     NaN          NaN   445   \n",
       "4     2025-04-17T11:24:49            NaN     NaN          NaN  1798   \n",
       "...                   ...            ...     ...          ...   ...   \n",
       "3382  2025-04-17T11:24:49            NaN     NaN          NaN   NaN   \n",
       "3383  2025-04-17T11:24:49            NaN     NaN          NaN   NaN   \n",
       "3384  2025-04-17T11:24:49            NaN     NaN          NaN   NaN   \n",
       "3385  2025-04-17T11:24:49            NaN     NaN          NaN   NaN   \n",
       "3386  2025-04-17T11:24:49            NaN     NaN          NaN   NaN   \n",
       "\n",
       "              depot_y vehicle_reg_number fleet_number    obu_device_id  \\\n",
       "0      Perambur Depot         TN01AN0628        J0236  862607059094994   \n",
       "1      Ambathur Depot         TN01AN0625        J0237  862607059102656   \n",
       "2     Annanagar Depot         TN01AN0632        J0238  862607059210541   \n",
       "3        Ennore Depot         TN01AN0630        J0239  862607052169082   \n",
       "4      Perambur Depot         TN01AN0619        J0240  862607055711781   \n",
       "...               ...                ...          ...              ...   \n",
       "3382              NaN                NaN          NaN              NaN   \n",
       "3383              NaN                NaN          NaN              NaN   \n",
       "3384              NaN                NaN          NaN              NaN   \n",
       "3385              NaN                NaN          NaN              NaN   \n",
       "3386              NaN                NaN          NaN              NaN   \n",
       "\n",
       "                    created_date  \n",
       "0     2024-03-04T22:30:44.762454  \n",
       "1     2024-03-04T22:30:44.762454  \n",
       "2     2024-03-04T22:30:44.762454  \n",
       "3     2024-03-04T22:30:44.762454  \n",
       "4     2024-03-04T22:30:44.762454  \n",
       "...                          ...  \n",
       "3382                         NaN  \n",
       "3383                         NaN  \n",
       "3384                         NaN  \n",
       "3385                         NaN  \n",
       "3386                         NaN  \n",
       "\n",
       "[3387 rows x 16 columns]"
      ]
     },
     "execution_count": 94,
     "metadata": {},
     "output_type": "execute_result"
    }
   ],
   "source": [
    "mapped = old.merge(new, left_on='fleet', right_on='fleet_number', how='left')\n",
    "mapped"
   ]
  },
  {
   "cell_type": "code",
   "execution_count": 95,
   "metadata": {},
   "outputs": [
    {
     "name": "stdout",
     "output_type": "stream",
     "text": [
      "<class 'pandas.core.frame.DataFrame'>\n",
      "RangeIndex: 3387 entries, 0 to 3386\n",
      "Data columns (total 16 columns):\n",
      " #   Column              Non-Null Count  Dtype \n",
      "---  ------              --------------  ----- \n",
      " 0   dep                 3387 non-null   object\n",
      " 1   fleet               3387 non-null   object\n",
      " 2   type                3385 non-null   object\n",
      " 3   regndate            3387 non-null   object\n",
      " 4   obu_iemi            3114 non-null   object\n",
      " 5   chalo_deviceid      2051 non-null   object\n",
      " 6   date                3387 non-null   object\n",
      " 7   vehicle_number      9 non-null      object\n",
      " 8   depot_x             1 non-null      object\n",
      " 9   ny_device_id        8 non-null      object\n",
      " 10  sr_no               2580 non-null   object\n",
      " 11  depot_y             2580 non-null   object\n",
      " 12  vehicle_reg_number  2580 non-null   object\n",
      " 13  fleet_number        2580 non-null   object\n",
      " 14  obu_device_id       2580 non-null   object\n",
      " 15  created_date        2580 non-null   object\n",
      "dtypes: object(16)\n",
      "memory usage: 423.5+ KB\n"
     ]
    }
   ],
   "source": [
    "mapped.info()"
   ]
  },
  {
   "cell_type": "code",
   "execution_count": 96,
   "metadata": {},
   "outputs": [
    {
     "data": {
      "text/html": [
       "<div>\n",
       "<style scoped>\n",
       "    .dataframe tbody tr th:only-of-type {\n",
       "        vertical-align: middle;\n",
       "    }\n",
       "\n",
       "    .dataframe tbody tr th {\n",
       "        vertical-align: top;\n",
       "    }\n",
       "\n",
       "    .dataframe thead th {\n",
       "        text-align: right;\n",
       "    }\n",
       "</style>\n",
       "<table border=\"1\" class=\"dataframe\">\n",
       "  <thead>\n",
       "    <tr style=\"text-align: right;\">\n",
       "      <th></th>\n",
       "      <th>dep</th>\n",
       "      <th>fleet</th>\n",
       "      <th>type</th>\n",
       "      <th>regndate</th>\n",
       "      <th>obu_iemi</th>\n",
       "      <th>chalo_deviceid</th>\n",
       "      <th>date</th>\n",
       "      <th>vehicle_number</th>\n",
       "      <th>depot_x</th>\n",
       "      <th>ny_device_id</th>\n",
       "      <th>sr_no</th>\n",
       "      <th>depot_y</th>\n",
       "      <th>vehicle_reg_number</th>\n",
       "      <th>fleet_number</th>\n",
       "      <th>obu_device_id</th>\n",
       "      <th>created_date</th>\n",
       "    </tr>\n",
       "  </thead>\n",
       "  <tbody>\n",
       "    <tr>\n",
       "      <th>1698</th>\n",
       "      <td>CD</td>\n",
       "      <td>J0003</td>\n",
       "      <td>NaN</td>\n",
       "      <td>2025-05-03</td>\n",
       "      <td>NaN</td>\n",
       "      <td>NaN</td>\n",
       "      <td>2025-05-05T15:13:25</td>\n",
       "      <td>TN01AN3946</td>\n",
       "      <td>C01</td>\n",
       "      <td>3012192925</td>\n",
       "      <td>1761</td>\n",
       "      <td>Perambur Depot</td>\n",
       "      <td>TN01N9747</td>\n",
       "      <td>J0003</td>\n",
       "      <td>862607059149228</td>\n",
       "      <td>2024-03-04T22:30:44.762454</td>\n",
       "    </tr>\n",
       "  </tbody>\n",
       "</table>\n",
       "</div>"
      ],
      "text/plain": [
       "     dep  fleet type    regndate obu_iemi chalo_deviceid                 date  \\\n",
       "1698  CD  J0003  NaN  2025-05-03      NaN            NaN  2025-05-05T15:13:25   \n",
       "\n",
       "     vehicle_number depot_x ny_device_id sr_no         depot_y  \\\n",
       "1698     TN01AN3946     C01   3012192925  1761  Perambur Depot   \n",
       "\n",
       "     vehicle_reg_number fleet_number    obu_device_id  \\\n",
       "1698          TN01N9747        J0003  862607059149228   \n",
       "\n",
       "                    created_date  \n",
       "1698  2024-03-04T22:30:44.762454  "
      ]
     },
     "execution_count": 96,
     "metadata": {},
     "output_type": "execute_result"
    }
   ],
   "source": [
    "changed_mapping = mapped[\n",
    "      (~mapped['fleet_number'].isna()) & \n",
    "      (mapped['obu_iemi'] != mapped['obu_device_id'])\n",
    "    ]\n",
    "changed_mapping"
   ]
  },
  {
   "cell_type": "code",
   "execution_count": 97,
   "metadata": {},
   "outputs": [
    {
     "data": {
      "text/plain": [
       "(1, 16)"
      ]
     },
     "execution_count": 97,
     "metadata": {},
     "output_type": "execute_result"
    }
   ],
   "source": [
    "changed_mapping.shape"
   ]
  },
  {
   "cell_type": "code",
   "execution_count": 98,
   "metadata": {},
   "outputs": [],
   "source": [
    "changed_mapping[['fleet', 'obu_device_id']].to_csv(\n",
    "    f\"output/{date}/changed-mapping.csv\", index=False)"
   ]
  },
  {
   "cell_type": "code",
   "execution_count": 99,
   "metadata": {},
   "outputs": [
    {
     "data": {
      "text/html": [
       "<div>\n",
       "<style scoped>\n",
       "    .dataframe tbody tr th:only-of-type {\n",
       "        vertical-align: middle;\n",
       "    }\n",
       "\n",
       "    .dataframe tbody tr th {\n",
       "        vertical-align: top;\n",
       "    }\n",
       "\n",
       "    .dataframe thead th {\n",
       "        text-align: right;\n",
       "    }\n",
       "</style>\n",
       "<table border=\"1\" class=\"dataframe\">\n",
       "  <thead>\n",
       "    <tr style=\"text-align: right;\">\n",
       "      <th></th>\n",
       "      <th>dep</th>\n",
       "      <th>fleet</th>\n",
       "      <th>type</th>\n",
       "      <th>regndate</th>\n",
       "      <th>obu_iemi</th>\n",
       "      <th>chalo_deviceid</th>\n",
       "      <th>date</th>\n",
       "      <th>vehicle_number</th>\n",
       "      <th>depot_x</th>\n",
       "      <th>ny_device_id</th>\n",
       "      <th>sr_no</th>\n",
       "      <th>depot_y</th>\n",
       "      <th>vehicle_reg_number</th>\n",
       "      <th>fleet_number</th>\n",
       "      <th>obu_device_id</th>\n",
       "      <th>created_date</th>\n",
       "    </tr>\n",
       "  </thead>\n",
       "  <tbody>\n",
       "  </tbody>\n",
       "</table>\n",
       "</div>"
      ],
      "text/plain": [
       "Empty DataFrame\n",
       "Columns: [dep, fleet, type, regndate, obu_iemi, chalo_deviceid, date, vehicle_number, depot_x, ny_device_id, sr_no, depot_y, vehicle_reg_number, fleet_number, obu_device_id, created_date]\n",
       "Index: []"
      ]
     },
     "execution_count": 99,
     "metadata": {},
     "output_type": "execute_result"
    }
   ],
   "source": [
    "mapped[mapped['obu_iemi'].isin(changed_mapping['obu_device_id'])]"
   ]
  },
  {
   "cell_type": "code",
   "execution_count": 100,
   "metadata": {},
   "outputs": [
    {
     "data": {
      "text/plain": [
       "(3387, 10)"
      ]
     },
     "execution_count": 100,
     "metadata": {},
     "output_type": "execute_result"
    }
   ],
   "source": [
    "old_test = old.copy()\n",
    "old_test.shape\n"
   ]
  },
  {
   "cell_type": "code",
   "execution_count": 101,
   "metadata": {},
   "outputs": [],
   "source": [
    "old_test['obu_iemi'] = np.where(old_test['fleet'].isin(\n",
    "    mapped['fleet_number']), mapped['obu_device_id'], old_test['obu_iemi'])\n",
    "\n",
    "old_test['depot'] = np.where(old_test['fleet'].isin(\n",
    "    mapped['fleet_number']), mapped['depot_y'], old_test['depot'])\n",
    "\n",
    "old_test['vehicle_number'] = np.where(old_test['fleet'].isin(\n",
    "    mapped['fleet_number']), mapped['vehicle_reg_number'], old_test['vehicle_number'])"
   ]
  },
  {
   "cell_type": "code",
   "execution_count": 102,
   "metadata": {},
   "outputs": [
    {
     "data": {
      "text/html": [
       "<div>\n",
       "<style scoped>\n",
       "    .dataframe tbody tr th:only-of-type {\n",
       "        vertical-align: middle;\n",
       "    }\n",
       "\n",
       "    .dataframe tbody tr th {\n",
       "        vertical-align: top;\n",
       "    }\n",
       "\n",
       "    .dataframe thead th {\n",
       "        text-align: right;\n",
       "    }\n",
       "</style>\n",
       "<table border=\"1\" class=\"dataframe\">\n",
       "  <thead>\n",
       "    <tr style=\"text-align: right;\">\n",
       "      <th></th>\n",
       "      <th>dep</th>\n",
       "      <th>fleet</th>\n",
       "      <th>type</th>\n",
       "      <th>regndate</th>\n",
       "      <th>obu_iemi</th>\n",
       "      <th>chalo_deviceid</th>\n",
       "      <th>date</th>\n",
       "      <th>vehicle_number</th>\n",
       "      <th>depot</th>\n",
       "      <th>ny_device_id</th>\n",
       "    </tr>\n",
       "  </thead>\n",
       "  <tbody>\n",
       "  </tbody>\n",
       "</table>\n",
       "</div>"
      ],
      "text/plain": [
       "Empty DataFrame\n",
       "Columns: [dep, fleet, type, regndate, obu_iemi, chalo_deviceid, date, vehicle_number, depot, ny_device_id]\n",
       "Index: []"
      ]
     },
     "execution_count": 102,
     "metadata": {},
     "output_type": "execute_result"
    }
   ],
   "source": [
    "# Find rows where Obu Iemi appears more than once\n",
    "duplicates = old_test[old_test['fleet'].duplicated(keep=False)].sort_values('fleet')\n",
    "duplicates\n"
   ]
  },
  {
   "cell_type": "code",
   "execution_count": 103,
   "metadata": {},
   "outputs": [
    {
     "data": {
      "text/html": [
       "<div>\n",
       "<style scoped>\n",
       "    .dataframe tbody tr th:only-of-type {\n",
       "        vertical-align: middle;\n",
       "    }\n",
       "\n",
       "    .dataframe tbody tr th {\n",
       "        vertical-align: top;\n",
       "    }\n",
       "\n",
       "    .dataframe thead th {\n",
       "        text-align: right;\n",
       "    }\n",
       "</style>\n",
       "<table border=\"1\" class=\"dataframe\">\n",
       "  <thead>\n",
       "    <tr style=\"text-align: right;\">\n",
       "      <th></th>\n",
       "      <th>dep</th>\n",
       "      <th>fleet</th>\n",
       "      <th>type</th>\n",
       "      <th>regndate</th>\n",
       "      <th>obu_iemi</th>\n",
       "      <th>chalo_deviceid</th>\n",
       "      <th>date</th>\n",
       "      <th>vehicle_number</th>\n",
       "      <th>depot</th>\n",
       "      <th>ny_device_id</th>\n",
       "    </tr>\n",
       "  </thead>\n",
       "  <tbody>\n",
       "  </tbody>\n",
       "</table>\n",
       "</div>"
      ],
      "text/plain": [
       "Empty DataFrame\n",
       "Columns: [dep, fleet, type, regndate, obu_iemi, chalo_deviceid, date, vehicle_number, depot, ny_device_id]\n",
       "Index: []"
      ]
     },
     "execution_count": 103,
     "metadata": {},
     "output_type": "execute_result"
    }
   ],
   "source": [
    "# Find rows where Obu Iemi appears more than once\n",
    "duplicates = old_test[old_test['obu_iemi'].duplicated(keep=False) & ~old_test['obu_iemi'].isna()].sort_values('obu_iemi')\n",
    "duplicates"
   ]
  },
  {
   "cell_type": "code",
   "execution_count": 104,
   "metadata": {},
   "outputs": [
    {
     "data": {
      "text/html": [
       "<div>\n",
       "<style scoped>\n",
       "    .dataframe tbody tr th:only-of-type {\n",
       "        vertical-align: middle;\n",
       "    }\n",
       "\n",
       "    .dataframe tbody tr th {\n",
       "        vertical-align: top;\n",
       "    }\n",
       "\n",
       "    .dataframe thead th {\n",
       "        text-align: right;\n",
       "    }\n",
       "</style>\n",
       "<table border=\"1\" class=\"dataframe\">\n",
       "  <thead>\n",
       "    <tr style=\"text-align: right;\">\n",
       "      <th></th>\n",
       "      <th>dep</th>\n",
       "      <th>fleet</th>\n",
       "      <th>type</th>\n",
       "      <th>regndate</th>\n",
       "      <th>obu_iemi</th>\n",
       "      <th>chalo_deviceid</th>\n",
       "      <th>date</th>\n",
       "      <th>vehicle_number</th>\n",
       "      <th>depot</th>\n",
       "      <th>ny_device_id</th>\n",
       "    </tr>\n",
       "  </thead>\n",
       "  <tbody>\n",
       "  </tbody>\n",
       "</table>\n",
       "</div>"
      ],
      "text/plain": [
       "Empty DataFrame\n",
       "Columns: [dep, fleet, type, regndate, obu_iemi, chalo_deviceid, date, vehicle_number, depot, ny_device_id]\n",
       "Index: []"
      ]
     },
     "execution_count": 104,
     "metadata": {},
     "output_type": "execute_result"
    }
   ],
   "source": [
    "old[old['obu_iemi'].isin(duplicates['obu_iemi'])]"
   ]
  },
  {
   "cell_type": "code",
   "execution_count": 105,
   "metadata": {},
   "outputs": [
    {
     "data": {
      "text/html": [
       "<div>\n",
       "<style scoped>\n",
       "    .dataframe tbody tr th:only-of-type {\n",
       "        vertical-align: middle;\n",
       "    }\n",
       "\n",
       "    .dataframe tbody tr th {\n",
       "        vertical-align: top;\n",
       "    }\n",
       "\n",
       "    .dataframe thead th {\n",
       "        text-align: right;\n",
       "    }\n",
       "</style>\n",
       "<table border=\"1\" class=\"dataframe\">\n",
       "  <thead>\n",
       "    <tr style=\"text-align: right;\">\n",
       "      <th></th>\n",
       "      <th>sr_no</th>\n",
       "      <th>depot</th>\n",
       "      <th>vehicle_reg_number</th>\n",
       "      <th>fleet_number</th>\n",
       "      <th>obu_device_id</th>\n",
       "      <th>created_date</th>\n",
       "    </tr>\n",
       "  </thead>\n",
       "  <tbody>\n",
       "  </tbody>\n",
       "</table>\n",
       "</div>"
      ],
      "text/plain": [
       "Empty DataFrame\n",
       "Columns: [sr_no, depot, vehicle_reg_number, fleet_number, obu_device_id, created_date]\n",
       "Index: []"
      ]
     },
     "execution_count": 105,
     "metadata": {},
     "output_type": "execute_result"
    }
   ],
   "source": [
    "new[new['obu_device_id'].isin(duplicates['obu_iemi'])]"
   ]
  },
  {
   "cell_type": "code",
   "execution_count": 106,
   "metadata": {},
   "outputs": [
    {
     "data": {
      "text/plain": [
       "(3387, 10)"
      ]
     },
     "execution_count": 106,
     "metadata": {},
     "output_type": "execute_result"
    }
   ],
   "source": [
    "tmp = old_test[~old_test['fleet'].isin(duplicates['fleet'])]\n",
    "tmp.shape"
   ]
  },
  {
   "cell_type": "code",
   "execution_count": 107,
   "metadata": {},
   "outputs": [],
   "source": [
    "tmp.to_csv(f\"output/{date}/updated-fleet-mapping-no-duplicates.csv\", index=False)"
   ]
  },
  {
   "cell_type": "code",
   "execution_count": null,
   "metadata": {},
   "outputs": [],
   "source": []
  }
 ],
 "metadata": {
  "kernelspec": {
   "display_name": ".venv",
   "language": "python",
   "name": "python3"
  },
  "language_info": {
   "codemirror_mode": {
    "name": "ipython",
    "version": 3
   },
   "file_extension": ".py",
   "mimetype": "text/x-python",
   "name": "python",
   "nbconvert_exporter": "python",
   "pygments_lexer": "ipython3",
   "version": "3.13.3"
  }
 },
 "nbformat": 4,
 "nbformat_minor": 2
}
