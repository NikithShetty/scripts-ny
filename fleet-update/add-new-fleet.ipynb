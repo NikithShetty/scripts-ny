{
 "cells": [
  {
   "cell_type": "code",
   "execution_count": 1,
   "metadata": {},
   "outputs": [
    {
     "data": {
      "text/plain": [
       "'17-06-2025'"
      ]
     },
     "execution_count": 1,
     "metadata": {},
     "output_type": "execute_result"
    }
   ],
   "source": [
    "import pandas as pd\n",
    "import numpy as np\n",
    "from datetime import datetime\n",
    "\n",
    "\n",
    "date = datetime.now().strftime('%d-%m-%Y')\n",
    "# date = '26-05-2025'\n",
    "date"
   ]
  },
  {
   "cell_type": "code",
   "execution_count": 2,
   "metadata": {},
   "outputs": [],
   "source": [
    "ev = pd.read_csv(f\"./input/{date}/new-ev.csv\", dtype=str)\n",
    "fdm = pd.read_csv(\n",
    "    f\"./input/{date}/fleet-device-mapping.csv\", dtype=str)\n",
    "\n",
    "\n",
    "# Convert column names to snake case and remove special characters\n",
    "ev.columns = ev.columns.str.lower().str.replace(\n",
    "    '[^a-zA-Z0-9]', '_', regex=True).str.replace('__+', '_', regex=True).str.strip('_').str.strip()\n",
    "fdm.columns = fdm.columns.str.lower().str.replace(\n",
    "    '[^a-zA-Z0-9]', '_', regex=True).str.replace('__+', '_', regex=True).str.strip('_').str.strip()"
   ]
  },
  {
   "cell_type": "code",
   "execution_count": 3,
   "metadata": {},
   "outputs": [
    {
     "name": "stdout",
     "output_type": "stream",
     "text": [
      "<class 'pandas.core.frame.DataFrame'>\n",
      "RangeIndex: 120 entries, 0 to 119\n",
      "Data columns (total 5 columns):\n",
      " #   Column      Non-Null Count  Dtype \n",
      "---  ------      --------------  ----- \n",
      " 0   sl_no       120 non-null    object\n",
      " 1   dep         120 non-null    object\n",
      " 2   obu_agency  120 non-null    object\n",
      " 3   fleet       120 non-null    object\n",
      " 4   iemi_no     120 non-null    object\n",
      "dtypes: object(5)\n",
      "memory usage: 4.8+ KB\n",
      "<class 'pandas.core.frame.DataFrame'>\n",
      "RangeIndex: 3459 entries, 0 to 3458\n",
      "Data columns (total 10 columns):\n",
      " #   Column          Non-Null Count  Dtype \n",
      "---  ------          --------------  ----- \n",
      " 0   dep             3459 non-null   object\n",
      " 1   fleet           3459 non-null   object\n",
      " 2   type            3457 non-null   object\n",
      " 3   regndate        3459 non-null   object\n",
      " 4   obu_iemi        3198 non-null   object\n",
      " 5   chalo_deviceid  1216 non-null   object\n",
      " 6   date            3459 non-null   object\n",
      " 7   vehicle_number  2579 non-null   object\n",
      " 8   depot           2579 non-null   object\n",
      " 9   ny_device_id    9 non-null      object\n",
      "dtypes: object(10)\n",
      "memory usage: 270.4+ KB\n"
     ]
    }
   ],
   "source": [
    "ev.info()\n",
    "fdm.info()"
   ]
  },
  {
   "cell_type": "code",
   "execution_count": 7,
   "metadata": {},
   "outputs": [
    {
     "data": {
      "application/vnd.microsoft.datawrangler.viewer.v0+json": {
       "columns": [
        {
         "name": "index",
         "rawType": "int64",
         "type": "integer"
        },
        {
         "name": "sl_no",
         "rawType": "bool",
         "type": "boolean"
        }
       ],
       "ref": "aee6c0e6-790f-402e-a74d-f6c863a65940",
       "rows": [
        [
         "0",
         "False"
        ],
        [
         "1",
         "False"
        ],
        [
         "2",
         "False"
        ],
        [
         "3",
         "False"
        ],
        [
         "4",
         "False"
        ],
        [
         "5",
         "False"
        ],
        [
         "6",
         "False"
        ],
        [
         "7",
         "False"
        ],
        [
         "8",
         "False"
        ],
        [
         "9",
         "False"
        ],
        [
         "10",
         "False"
        ],
        [
         "11",
         "False"
        ],
        [
         "12",
         "False"
        ],
        [
         "13",
         "False"
        ],
        [
         "14",
         "False"
        ],
        [
         "15",
         "False"
        ],
        [
         "16",
         "False"
        ],
        [
         "17",
         "False"
        ],
        [
         "18",
         "False"
        ],
        [
         "19",
         "False"
        ],
        [
         "20",
         "False"
        ],
        [
         "21",
         "False"
        ],
        [
         "22",
         "False"
        ],
        [
         "23",
         "False"
        ],
        [
         "24",
         "False"
        ],
        [
         "25",
         "False"
        ],
        [
         "26",
         "False"
        ],
        [
         "27",
         "False"
        ],
        [
         "28",
         "False"
        ],
        [
         "29",
         "False"
        ],
        [
         "30",
         "False"
        ],
        [
         "31",
         "False"
        ],
        [
         "32",
         "False"
        ],
        [
         "33",
         "False"
        ],
        [
         "34",
         "False"
        ],
        [
         "35",
         "False"
        ],
        [
         "36",
         "False"
        ],
        [
         "37",
         "False"
        ],
        [
         "38",
         "False"
        ],
        [
         "39",
         "False"
        ],
        [
         "40",
         "False"
        ],
        [
         "41",
         "False"
        ],
        [
         "42",
         "False"
        ],
        [
         "43",
         "False"
        ],
        [
         "44",
         "False"
        ],
        [
         "45",
         "False"
        ],
        [
         "46",
         "False"
        ],
        [
         "47",
         "False"
        ],
        [
         "48",
         "False"
        ],
        [
         "49",
         "False"
        ]
       ],
       "shape": {
        "columns": 1,
        "rows": 120
       }
      },
      "text/plain": [
       "0      False\n",
       "1      False\n",
       "2      False\n",
       "3      False\n",
       "4      False\n",
       "       ...  \n",
       "115    False\n",
       "116    False\n",
       "117    False\n",
       "118    False\n",
       "119    False\n",
       "Name: sl_no, Length: 120, dtype: bool"
      ]
     },
     "execution_count": 7,
     "metadata": {},
     "output_type": "execute_result"
    }
   ],
   "source": [
    "ev[\"sl_no\"].isna()"
   ]
  },
  {
   "cell_type": "code",
   "execution_count": 4,
   "metadata": {},
   "outputs": [
    {
     "name": "stdout",
     "output_type": "stream",
     "text": [
      "<class 'pandas.core.frame.DataFrame'>\n",
      "RangeIndex: 3506 entries, 0 to 3505\n",
      "Data columns (total 14 columns):\n",
      " #   Column          Non-Null Count  Dtype \n",
      "---  ------          --------------  ----- \n",
      " 0   dep_x           3459 non-null   object\n",
      " 1   fleet           3506 non-null   object\n",
      " 2   type            3457 non-null   object\n",
      " 3   regndate        3459 non-null   object\n",
      " 4   obu_iemi        3198 non-null   object\n",
      " 5   chalo_deviceid  1216 non-null   object\n",
      " 6   date            3459 non-null   object\n",
      " 7   vehicle_number  2579 non-null   object\n",
      " 8   depot           2579 non-null   object\n",
      " 9   ny_device_id    9 non-null      object\n",
      " 10  sl_no           120 non-null    object\n",
      " 11  dep_y           120 non-null    object\n",
      " 12  obu_agency      120 non-null    object\n",
      " 13  iemi_no         120 non-null    object\n",
      "dtypes: object(14)\n",
      "memory usage: 383.6+ KB\n"
     ]
    }
   ],
   "source": [
    "merged = pd.merge(fdm, ev, on='fleet', how='outer')\n",
    "merged.info()"
   ]
  },
  {
   "cell_type": "code",
   "execution_count": 23,
   "metadata": {},
   "outputs": [],
   "source": [
    "# check for overlap between fdm.fleet and ev.fleet in merged df. If there is overlap, then check if fdm.obu_iemi, fdm.dep matches with ev.iemi_no, ev.dep. Put the ones that match into overlap_df and others into overlap_mismatch_df\n",
    "overlap_df = merged[(merged['obu_iemi'] == merged['iemi_no']) & \n",
    "                     (merged['dep_x'] == merged['dep_y'])].copy()\n",
    "overlap_mismatch_df = merged[(merged['obu_iemi'].notna()) & \n",
    "                             (~(merged['obu_iemi'] == merged['iemi_no']) |\n",
    "                               ~(merged['dep_x'] == merged['dep_y']))].copy()\n",
    "\n",
    "# write the overlap_df and overlap_mismatch_df to csv files\n",
    "overlap_df.to_csv(f\"./output/{date}/overlap_df.csv\", index=False)\n",
    "overlap_mismatch_df.to_csv(f\"./output/{date}/overlap_mismatch_df.csv\", index=False)"
   ]
  },
  {
   "cell_type": "code",
   "execution_count": 15,
   "metadata": {},
   "outputs": [
    {
     "ename": "KeyError",
     "evalue": "'type_x'",
     "output_type": "error",
     "traceback": [
      "\u001b[31m---------------------------------------------------------------------------\u001b[39m",
      "\u001b[31mKeyError\u001b[39m                                  Traceback (most recent call last)",
      "\u001b[36mFile \u001b[39m\u001b[32m~/scripts-ny/.venv/lib/python3.13/site-packages/pandas/core/indexes/base.py:3805\u001b[39m, in \u001b[36mIndex.get_loc\u001b[39m\u001b[34m(self, key)\u001b[39m\n\u001b[32m   3804\u001b[39m \u001b[38;5;28;01mtry\u001b[39;00m:\n\u001b[32m-> \u001b[39m\u001b[32m3805\u001b[39m     \u001b[38;5;28;01mreturn\u001b[39;00m \u001b[38;5;28;43mself\u001b[39;49m\u001b[43m.\u001b[49m\u001b[43m_engine\u001b[49m\u001b[43m.\u001b[49m\u001b[43mget_loc\u001b[49m\u001b[43m(\u001b[49m\u001b[43mcasted_key\u001b[49m\u001b[43m)\u001b[49m\n\u001b[32m   3806\u001b[39m \u001b[38;5;28;01mexcept\u001b[39;00m \u001b[38;5;167;01mKeyError\u001b[39;00m \u001b[38;5;28;01mas\u001b[39;00m err:\n",
      "\u001b[36mFile \u001b[39m\u001b[32mindex.pyx:167\u001b[39m, in \u001b[36mpandas._libs.index.IndexEngine.get_loc\u001b[39m\u001b[34m()\u001b[39m\n",
      "\u001b[36mFile \u001b[39m\u001b[32mindex.pyx:196\u001b[39m, in \u001b[36mpandas._libs.index.IndexEngine.get_loc\u001b[39m\u001b[34m()\u001b[39m\n",
      "\u001b[36mFile \u001b[39m\u001b[32mpandas/_libs/hashtable_class_helper.pxi:7081\u001b[39m, in \u001b[36mpandas._libs.hashtable.PyObjectHashTable.get_item\u001b[39m\u001b[34m()\u001b[39m\n",
      "\u001b[36mFile \u001b[39m\u001b[32mpandas/_libs/hashtable_class_helper.pxi:7089\u001b[39m, in \u001b[36mpandas._libs.hashtable.PyObjectHashTable.get_item\u001b[39m\u001b[34m()\u001b[39m\n",
      "\u001b[31mKeyError\u001b[39m: 'type_x'",
      "\nThe above exception was the direct cause of the following exception:\n",
      "\u001b[31mKeyError\u001b[39m                                  Traceback (most recent call last)",
      "\u001b[36mCell\u001b[39m\u001b[36m \u001b[39m\u001b[32mIn[15]\u001b[39m\u001b[32m, line 2\u001b[39m\n\u001b[32m      1\u001b[39m fdm_update = merged.copy()\n\u001b[32m----> \u001b[39m\u001b[32m2\u001b[39m fdm_update[\u001b[33m\"\u001b[39m\u001b[33mtype_x\u001b[39m\u001b[33m\"\u001b[39m] = np.where(\u001b[43mmerged\u001b[49m\u001b[43m[\u001b[49m\u001b[33;43m\"\u001b[39;49m\u001b[33;43mtype_x\u001b[39;49m\u001b[33;43m\"\u001b[39;49m\u001b[43m]\u001b[49m.isna(), merged[\u001b[33m\"\u001b[39m\u001b[33mtype_y\u001b[39m\u001b[33m\"\u001b[39m], merged[\u001b[33m\"\u001b[39m\u001b[33mtype_x\u001b[39m\u001b[33m\"\u001b[39m])\n\u001b[32m      3\u001b[39m fdm_update[\u001b[33m\"\u001b[39m\u001b[33mdep\u001b[39m\u001b[33m\"\u001b[39m] = np.where(merged[\u001b[33m\"\u001b[39m\u001b[33mdep\u001b[39m\u001b[33m\"\u001b[39m].isna(),\n\u001b[32m      4\u001b[39m                            merged[\u001b[33m\"\u001b[39m\u001b[33mdepoot\u001b[39m\u001b[33m\"\u001b[39m], merged[\u001b[33m\"\u001b[39m\u001b[33mdep\u001b[39m\u001b[33m\"\u001b[39m])\n\u001b[32m      5\u001b[39m fdm_update[\u001b[33m\"\u001b[39m\u001b[33mobu_iemi\u001b[39m\u001b[33m\"\u001b[39m] = np.where(merged[\u001b[33m\"\u001b[39m\u001b[33mobu_iemi\u001b[39m\u001b[33m\"\u001b[39m].isna(),\n\u001b[32m      6\u001b[39m                                 merged[\u001b[33m\"\u001b[39m\u001b[33mimei\u001b[39m\u001b[33m\"\u001b[39m], fdm_update[\u001b[33m\"\u001b[39m\u001b[33mobu_iemi\u001b[39m\u001b[33m\"\u001b[39m])\n",
      "\u001b[36mFile \u001b[39m\u001b[32m~/scripts-ny/.venv/lib/python3.13/site-packages/pandas/core/frame.py:4102\u001b[39m, in \u001b[36mDataFrame.__getitem__\u001b[39m\u001b[34m(self, key)\u001b[39m\n\u001b[32m   4100\u001b[39m \u001b[38;5;28;01mif\u001b[39;00m \u001b[38;5;28mself\u001b[39m.columns.nlevels > \u001b[32m1\u001b[39m:\n\u001b[32m   4101\u001b[39m     \u001b[38;5;28;01mreturn\u001b[39;00m \u001b[38;5;28mself\u001b[39m._getitem_multilevel(key)\n\u001b[32m-> \u001b[39m\u001b[32m4102\u001b[39m indexer = \u001b[38;5;28;43mself\u001b[39;49m\u001b[43m.\u001b[49m\u001b[43mcolumns\u001b[49m\u001b[43m.\u001b[49m\u001b[43mget_loc\u001b[49m\u001b[43m(\u001b[49m\u001b[43mkey\u001b[49m\u001b[43m)\u001b[49m\n\u001b[32m   4103\u001b[39m \u001b[38;5;28;01mif\u001b[39;00m is_integer(indexer):\n\u001b[32m   4104\u001b[39m     indexer = [indexer]\n",
      "\u001b[36mFile \u001b[39m\u001b[32m~/scripts-ny/.venv/lib/python3.13/site-packages/pandas/core/indexes/base.py:3812\u001b[39m, in \u001b[36mIndex.get_loc\u001b[39m\u001b[34m(self, key)\u001b[39m\n\u001b[32m   3807\u001b[39m     \u001b[38;5;28;01mif\u001b[39;00m \u001b[38;5;28misinstance\u001b[39m(casted_key, \u001b[38;5;28mslice\u001b[39m) \u001b[38;5;129;01mor\u001b[39;00m (\n\u001b[32m   3808\u001b[39m         \u001b[38;5;28misinstance\u001b[39m(casted_key, abc.Iterable)\n\u001b[32m   3809\u001b[39m         \u001b[38;5;129;01mand\u001b[39;00m \u001b[38;5;28many\u001b[39m(\u001b[38;5;28misinstance\u001b[39m(x, \u001b[38;5;28mslice\u001b[39m) \u001b[38;5;28;01mfor\u001b[39;00m x \u001b[38;5;129;01min\u001b[39;00m casted_key)\n\u001b[32m   3810\u001b[39m     ):\n\u001b[32m   3811\u001b[39m         \u001b[38;5;28;01mraise\u001b[39;00m InvalidIndexError(key)\n\u001b[32m-> \u001b[39m\u001b[32m3812\u001b[39m     \u001b[38;5;28;01mraise\u001b[39;00m \u001b[38;5;167;01mKeyError\u001b[39;00m(key) \u001b[38;5;28;01mfrom\u001b[39;00m\u001b[38;5;250m \u001b[39m\u001b[34;01merr\u001b[39;00m\n\u001b[32m   3813\u001b[39m \u001b[38;5;28;01mexcept\u001b[39;00m \u001b[38;5;167;01mTypeError\u001b[39;00m:\n\u001b[32m   3814\u001b[39m     \u001b[38;5;66;03m# If we have a listlike key, _check_indexing_error will raise\u001b[39;00m\n\u001b[32m   3815\u001b[39m     \u001b[38;5;66;03m#  InvalidIndexError. Otherwise we fall through and re-raise\u001b[39;00m\n\u001b[32m   3816\u001b[39m     \u001b[38;5;66;03m#  the TypeError.\u001b[39;00m\n\u001b[32m   3817\u001b[39m     \u001b[38;5;28mself\u001b[39m._check_indexing_error(key)\n",
      "\u001b[31mKeyError\u001b[39m: 'type_x'"
     ]
    }
   ],
   "source": [
    "fdm_update = merged.copy()\n",
    "fdm_update[\"type_x\"] = np.where(merged[\"type_x\"].isna(), merged[\"type_y\"], merged[\"type_x\"])\n",
    "fdm_update[\"dep\"] = np.where(merged[\"dep\"].isna(),\n",
    "                           merged[\"depoot\"], merged[\"dep\"])\n",
    "fdm_update[\"obu_iemi\"] = np.where(merged[\"obu_iemi\"].isna(),\n",
    "                                merged[\"imei\"], fdm_update[\"obu_iemi\"])"
   ]
  },
  {
   "cell_type": "code",
   "execution_count": 31,
   "metadata": {},
   "outputs": [],
   "source": [
    "fdm_update.drop(columns=['sl_no', 'depoot', 'type_y', 'imei'], inplace=True)\n",
    "fdm_update.rename(columns={'type_x': 'type'}, inplace=True)\n",
    "fdm_update.to_csv(\n",
    "    f\"./output/{date}/fleet-device-mapping_update.csv\", index=False)"
   ]
  },
  {
   "cell_type": "code",
   "execution_count": 32,
   "metadata": {},
   "outputs": [
    {
     "name": "stdout",
     "output_type": "stream",
     "text": [
      "[\"864650059674926\",\"865860041773202\",\"862607059106913\",\"862607059352053\",\"868142049581045\",\"862607059338508\",\"867032053735614\",\"862607059126572\",\"862607059378066\",\"868142049697478\",\"868142049701288\",\"864977043719461\",\"864977043762180\",\"868142049713788\",\"867032053748344\",\"868142049630057\",\"864513045697361\",\"868142049098195\",\"864650056330043\",\"862607059215128\",\"868142049819841\",\"864977043652001\",\"864513046488885\",\"864513046490030\",\"868142049718803\",\"862607059104041\",\"868142049702641\",\"864513046501760\",\"862607059181775\",\"867383059086100\",\"867032053775040\",\"868142049682587\",\"862607059206077\",\"866041043561965\",\"862607059368968\",\"864650056135814\",\"864513046553282\",\"864977043685613\",\"864977043708803\",\"864977043713191\",\"867032053748666\",\"863418053218475\",\"862607059082411\",\"862607059350685\",\"864650059644515\",\"864650059579000\",\"864513045642441\",\"864977043693443\",\"862607059110345\",\"867383059179509\",\"862607059383512\",\"862607059103449\",\"864513042763281\",\"862607059305853\",\"862607059207604\",\"862607059370402\",\"867032059234778\",\"862607059370485\",\"864977043762883\",\"862607059345214\",\"868142049597975\",\"862607059205624\",\"864650059658606\",\"867032059135348\",\"862607059159656\",\"862607052177705\",\"864513046550155\",\"862607055694995\",\"864650059673068\",\"868142049648323\",\"864650059410834\",\"862607059160571\",\"864650059574506\"]\n"
     ]
    }
   ],
   "source": [
    "print(ev['imei'].to_json(orient='values'))\n"
   ]
  },
  {
   "cell_type": "code",
   "execution_count": null,
   "metadata": {},
   "outputs": [],
   "source": []
  }
 ],
 "metadata": {
  "kernelspec": {
   "display_name": ".venv",
   "language": "python",
   "name": "python3"
  },
  "language_info": {
   "codemirror_mode": {
    "name": "ipython",
    "version": 3
   },
   "file_extension": ".py",
   "mimetype": "text/x-python",
   "name": "python",
   "nbconvert_exporter": "python",
   "pygments_lexer": "ipython3",
   "version": "3.13.3"
  }
 },
 "nbformat": 4,
 "nbformat_minor": 2
}
